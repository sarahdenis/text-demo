{
 "cells": [
  {
   "cell_type": "code",
   "execution_count": 2,
   "metadata": {
    "scrolled": true
   },
   "outputs": [
    {
     "name": "stdout",
     "output_type": "stream",
     "text": [
      "Enter first and last nameSarah Denis\n",
      "Sarah Denis\n",
      "\n",
      "what are your goalsfor this class-long term goals?\n",
      "what would you like to be...when all is said and done with the class?to be data analyst\n",
      "to be data analyst\n"
     ]
    }
   ],
   "source": [
    "#Enter first and last name\n",
    "names=input(\"Enter first and last name\")\n",
    "print(names)\n",
    "print()\n",
    "#Enter your goals for this class\n",
    "print(\"what are your goalsfor this class-long term goals?\")\n",
    "goals=input('what would you like to be...when all is said and done with the class?')\n",
    "print(goals)\n"
   ]
  },
  {
   "cell_type": "code",
   "execution_count": null,
   "metadata": {},
   "outputs": [],
   "source": [
    "\n"
   ]
  }
 ],
 "metadata": {
  "kernelspec": {
   "display_name": "Python 3",
   "language": "python",
   "name": "python3"
  },
  "language_info": {
   "codemirror_mode": {
    "name": "ipython",
    "version": 3
   },
   "file_extension": ".py",
   "mimetype": "text/x-python",
   "name": "python",
   "nbconvert_exporter": "python",
   "pygments_lexer": "ipython3",
   "version": "3.8.5"
  }
 },
 "nbformat": 4,
 "nbformat_minor": 4
}
